{
  "nbformat": 4,
  "nbformat_minor": 0,
  "metadata": {
    "colab": {
      "provenance": [],
      "authorship_tag": "ABX9TyMb5D6tP4QgW+iby0Q8qFHb",
      "include_colab_link": true
    },
    "kernelspec": {
      "name": "python3",
      "display_name": "Python 3"
    },
    "language_info": {
      "name": "python"
    }
  },
  "cells": [
    {
      "cell_type": "markdown",
      "metadata": {
        "id": "view-in-github",
        "colab_type": "text"
      },
      "source": [
        "<a href=\"https://colab.research.google.com/github/rodrigorissettoterra/RNA-Simples/blob/main/RNA_Simples.ipynb\" target=\"_parent\"><img src=\"https://colab.research.google.com/assets/colab-badge.svg\" alt=\"Open In Colab\"/></a>"
      ]
    },
    {
      "cell_type": "markdown",
      "source": [
        "Vamos criar uma rede neural para classificar imagens de dígitos escritos à mão. O conjunto de dados que usaremos é o MNIST, que contém imagens de 60.000 dígitos de treinamento e 10.000 dígitos de teste."
      ],
      "metadata": {
        "id": "ldXKOU6KH0_B"
      }
    },
    {
      "cell_type": "markdown",
      "source": [
        "Primeiro, vamos importar as bibliotecas necessárias e carregar o conjunto de dados MNIST:"
      ],
      "metadata": {
        "id": "lP6t4iS4H6NV"
      }
    },
    {
      "cell_type": "code",
      "execution_count": 1,
      "metadata": {
        "colab": {
          "base_uri": "https://localhost:8080/"
        },
        "id": "XPMKEotKHCHx",
        "outputId": "00557712-78e6-4444-daa0-727232aa7c4f"
      },
      "outputs": [
        {
          "output_type": "stream",
          "name": "stdout",
          "text": [
            "Downloading data from https://storage.googleapis.com/tensorflow/tf-keras-datasets/mnist.npz\n",
            "11490434/11490434 [==============================] - 0s 0us/step\n"
          ]
        }
      ],
      "source": [
        "import tensorflow as tf\n",
        "from tensorflow import keras\n",
        "\n",
        "(x_train, y_train), (x_test, y_test) = keras.datasets.mnist.load_data()"
      ]
    },
    {
      "cell_type": "markdown",
      "source": [
        "Em seguida, vamos pré-processar os dados, normalizando as imagens para que os valores de pixel fiquem entre 0 e 1, e transformando as saídas em vetores one-hot encoding:"
      ],
      "metadata": {
        "id": "BCbSJkcTH75x"
      }
    },
    {
      "cell_type": "code",
      "source": [
        "x_train = x_train.astype('float32') / 255.0\n",
        "x_test = x_test.astype('float32') / 255.0\n",
        "\n",
        "y_train = keras.utils.to_categorical(y_train)\n",
        "y_test = keras.utils.to_categorical(y_test)"
      ],
      "metadata": {
        "id": "kEcpDM1BHbp6"
      },
      "execution_count": 2,
      "outputs": []
    },
    {
      "cell_type": "markdown",
      "source": [
        "Em seguida, vamos construir a rede neural. Neste exemplo, vamos usar uma rede neural com duas camadas ocultas, cada uma com 64 neurônios, seguidas por uma camada de saída com 10 neurônios (um para cada dígito)."
      ],
      "metadata": {
        "id": "mV8g3sU3H8RR"
      }
    },
    {
      "cell_type": "code",
      "source": [
        "model = keras.Sequential([\n",
        "  keras.layers.Flatten(input_shape=(28, 28)),\n",
        "  keras.layers.Dense(64, activation='relu'),\n",
        "  keras.layers.Dense(64, activation='relu'),\n",
        "  keras.layers.Dense(10, activation='softmax')\n",
        "])"
      ],
      "metadata": {
        "id": "rdRkRyS-HdmG"
      },
      "execution_count": 3,
      "outputs": []
    },
    {
      "cell_type": "markdown",
      "source": [
        "Em seguida, vamos configurar o modelo, especificando a função de perda (cross-entropy), o otimizador (adam) e as métricas que desejamos acompanhar durante o treinamento (acurácia)."
      ],
      "metadata": {
        "id": "jALp13qlH8xD"
      }
    },
    {
      "cell_type": "code",
      "source": [
        "model.compile(optimizer='adam',\n",
        "              loss='categorical_crossentropy',\n",
        "              metrics=['accuracy'])"
      ],
      "metadata": {
        "id": "wGDFnZg6Hfrs"
      },
      "execution_count": 4,
      "outputs": []
    },
    {
      "cell_type": "markdown",
      "source": [
        "Finalmente, vamos treinar a rede neural usando os dados de treinamento:"
      ],
      "metadata": {
        "id": "8IQou8XcH9Hf"
      }
    },
    {
      "cell_type": "code",
      "source": [
        "model.fit(x_train, y_train, epochs=10, batch_size=32, validation_split=0.2)"
      ],
      "metadata": {
        "colab": {
          "base_uri": "https://localhost:8080/"
        },
        "id": "ZN5aVOmFHhXQ",
        "outputId": "a52b6c8b-87b2-46bb-e3a8-e2f28ed2bdc8"
      },
      "execution_count": 5,
      "outputs": [
        {
          "output_type": "stream",
          "name": "stdout",
          "text": [
            "Epoch 1/10\n",
            "1500/1500 [==============================] - 4s 2ms/step - loss: 0.3071 - accuracy: 0.9103 - val_loss: 0.1573 - val_accuracy: 0.9548\n",
            "Epoch 2/10\n",
            "1500/1500 [==============================] - 3s 2ms/step - loss: 0.1404 - accuracy: 0.9573 - val_loss: 0.1432 - val_accuracy: 0.9548\n",
            "Epoch 3/10\n",
            "1500/1500 [==============================] - 3s 2ms/step - loss: 0.1020 - accuracy: 0.9682 - val_loss: 0.1181 - val_accuracy: 0.9653\n",
            "Epoch 4/10\n",
            "1500/1500 [==============================] - 3s 2ms/step - loss: 0.0776 - accuracy: 0.9763 - val_loss: 0.1097 - val_accuracy: 0.9682\n",
            "Epoch 5/10\n",
            "1500/1500 [==============================] - 3s 2ms/step - loss: 0.0660 - accuracy: 0.9792 - val_loss: 0.1180 - val_accuracy: 0.9641\n",
            "Epoch 6/10\n",
            "1500/1500 [==============================] - 3s 2ms/step - loss: 0.0526 - accuracy: 0.9833 - val_loss: 0.1099 - val_accuracy: 0.9689\n",
            "Epoch 7/10\n",
            "1500/1500 [==============================] - 3s 2ms/step - loss: 0.0459 - accuracy: 0.9853 - val_loss: 0.0954 - val_accuracy: 0.9747\n",
            "Epoch 8/10\n",
            "1500/1500 [==============================] - 3s 2ms/step - loss: 0.0385 - accuracy: 0.9869 - val_loss: 0.0950 - val_accuracy: 0.9742\n",
            "Epoch 9/10\n",
            "1500/1500 [==============================] - 3s 2ms/step - loss: 0.0320 - accuracy: 0.9897 - val_loss: 0.1030 - val_accuracy: 0.9732\n",
            "Epoch 10/10\n",
            "1500/1500 [==============================] - 3s 2ms/step - loss: 0.0270 - accuracy: 0.9913 - val_loss: 0.1048 - val_accuracy: 0.9722\n"
          ]
        },
        {
          "output_type": "execute_result",
          "data": {
            "text/plain": [
              "<keras.callbacks.History at 0x7f7c1d45ee20>"
            ]
          },
          "metadata": {},
          "execution_count": 5
        }
      ]
    },
    {
      "cell_type": "markdown",
      "source": [
        "Este código treinará a rede neural por 10 ciclos (ou seja, passagens completas pelo conjunto de treinamento), com um tamanho de lote de 32 exemplos por vez, e monitorará a acurácia de validação durante o treinamento.\n",
        "\n",
        "Depois de treinar a rede neural, podemos avaliá-la nos dados de teste:"
      ],
      "metadata": {
        "id": "VhVeiogYH-Eb"
      }
    },
    {
      "cell_type": "code",
      "source": [
        "test_loss, test_acc = model.evaluate(x_test, y_test)\n",
        "print('Test accuracy:', test_acc)"
      ],
      "metadata": {
        "colab": {
          "base_uri": "https://localhost:8080/"
        },
        "id": "JNcrrjgLHjJ_",
        "outputId": "520e874d-0dca-4686-f0f4-9eae9601d6cb"
      },
      "execution_count": 6,
      "outputs": [
        {
          "output_type": "stream",
          "name": "stdout",
          "text": [
            "313/313 [==============================] - 0s 1ms/step - loss: 0.0952 - accuracy: 0.9749\n",
            "Test accuracy: 0.9749000072479248\n"
          ]
        }
      ]
    },
    {
      "cell_type": "markdown",
      "source": [
        "Este código imprimirá a acurácia da rede neural nos dados de teste."
      ],
      "metadata": {
        "id": "_dA6xJYvIORc"
      }
    }
  ]
}